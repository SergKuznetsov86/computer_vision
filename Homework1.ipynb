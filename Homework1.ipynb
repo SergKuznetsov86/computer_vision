{
 "cells": [
  {
   "cell_type": "markdown",
   "metadata": {
    "id": "ojPlhvWgcPUn"
   },
   "source": [
    "# Домашнее задание № 1\n",
    "\n",
    "### Автор: Кузнецов С.И."
   ]
  },
  {
   "cell_type": "code",
   "execution_count": 1,
   "metadata": {
    "id": "Io0INeLvQgIJ"
   },
   "outputs": [],
   "source": [
    "import tensorflow as tf\n",
    "import tensorflow.keras as keras"
   ]
  },
  {
   "cell_type": "markdown",
   "metadata": {
    "id": "JMEXqkhhdD2Y"
   },
   "source": [
    "Загружаем датасет с https://www.kaggle.com/ajayrana/hymenoptera-data\n",
    "\n",
    "Датасет предварительно был загружен на Google-диск"
   ]
  },
  {
   "cell_type": "code",
   "execution_count": 2,
   "metadata": {
    "colab": {
     "base_uri": "https://localhost:8080/",
     "height": 34
    },
    "id": "9ysSZsZmcTTu",
    "outputId": "b651f544-273f-4b5d-aae3-0671ce59659e"
   },
   "outputs": [
    {
     "name": "stdout",
     "output_type": "stream",
     "text": [
      "Drive already mounted at /content/gdrive; to attempt to forcibly remount, call drive.mount(\"/content/gdrive\", force_remount=True).\n"
     ]
    }
   ],
   "source": [
    "from google.colab import drive\n",
    "drive.mount('/content/gdrive')"
   ]
  },
  {
   "cell_type": "code",
   "execution_count": 3,
   "metadata": {
    "id": "Isl-0v0JTtqT"
   },
   "outputs": [],
   "source": [
    "train_generator = keras.preprocessing.image.ImageDataGenerator(rescale=1./225.)\n",
    "test_generator = keras.preprocessing.image.ImageDataGenerator(rescale=1./225.)"
   ]
  },
  {
   "cell_type": "code",
   "execution_count": 4,
   "metadata": {
    "colab": {
     "base_uri": "https://localhost:8080/",
     "height": 51
    },
    "id": "vr8FkUTdZbUu",
    "outputId": "9c47fc43-7b79-4201-f3ff-71d4a6e39045"
   },
   "outputs": [
    {
     "name": "stdout",
     "output_type": "stream",
     "text": [
      "Found 244 images belonging to 2 classes.\n",
      "Found 153 images belonging to 2 classes.\n"
     ]
    }
   ],
   "source": [
    "train = train_generator.flow_from_directory('/content/gdrive/My Drive/Colab Notebooks/hymenoptera_data/train',\n",
    "                                            target_size=(224, 224), \n",
    "                                            batch_size=32,\n",
    "                                            class_mode='binary')\n",
    "test = train_generator.flow_from_directory('/content/gdrive/My Drive/Colab Notebooks/hymenoptera_data/val',\n",
    "                                            target_size=(224, 224), \n",
    "                                            batch_size=32,\n",
    "                                            class_mode='binary')"
   ]
  },
  {
   "cell_type": "markdown",
   "metadata": {
    "id": "9YAnHTy6df0P"
   },
   "source": [
    "Создаем сверточную нейронную сеть со сверточными, пуллинговыми и полносвязанными слоями."
   ]
  },
  {
   "cell_type": "code",
   "execution_count": 5,
   "metadata": {
    "id": "vGECwVWta6eD"
   },
   "outputs": [],
   "source": [
    "i = keras.layers.Input(shape=(224,224,3))\n",
    "o = keras.layers.Conv2D(128, (5,5), strides=(3,3))(i)\n",
    "o = keras.layers.MaxPool2D((2,2))(o)\n",
    "o = keras.layers.ReLU()(o)\n",
    "o = keras.layers.Conv2D(64, (3,3))(o)\n",
    "o = keras.layers.MaxPool2D((2,2))(o)\n",
    "o = keras.layers.ReLU()(o)\n",
    "o = keras.layers.Conv2D(128, (3,3), strides=(1,1))(o)\n",
    "o = keras.layers.MaxPool2D((2,2))(o)\n",
    "o = keras.layers.ReLU()(o)\n",
    "o = keras.layers.Flatten()(o)\n",
    "o = keras.layers.Dense(1, activation='sigmoid')(o)"
   ]
  },
  {
   "cell_type": "code",
   "execution_count": 6,
   "metadata": {
    "colab": {
     "base_uri": "https://localhost:8080/",
     "height": 561
    },
    "id": "RpEA4XbNbZl3",
    "outputId": "45949d01-91ad-4db4-870c-703855b31343"
   },
   "outputs": [
    {
     "name": "stdout",
     "output_type": "stream",
     "text": [
      "Model: \"functional_1\"\n",
      "_________________________________________________________________\n",
      "Layer (type)                 Output Shape              Param #   \n",
      "=================================================================\n",
      "input_1 (InputLayer)         [(None, 224, 224, 3)]     0         \n",
      "_________________________________________________________________\n",
      "conv2d (Conv2D)              (None, 74, 74, 128)       9728      \n",
      "_________________________________________________________________\n",
      "max_pooling2d (MaxPooling2D) (None, 37, 37, 128)       0         \n",
      "_________________________________________________________________\n",
      "re_lu (ReLU)                 (None, 37, 37, 128)       0         \n",
      "_________________________________________________________________\n",
      "conv2d_1 (Conv2D)            (None, 35, 35, 64)        73792     \n",
      "_________________________________________________________________\n",
      "max_pooling2d_1 (MaxPooling2 (None, 17, 17, 64)        0         \n",
      "_________________________________________________________________\n",
      "re_lu_1 (ReLU)               (None, 17, 17, 64)        0         \n",
      "_________________________________________________________________\n",
      "conv2d_2 (Conv2D)            (None, 15, 15, 128)       73856     \n",
      "_________________________________________________________________\n",
      "max_pooling2d_2 (MaxPooling2 (None, 7, 7, 128)         0         \n",
      "_________________________________________________________________\n",
      "re_lu_2 (ReLU)               (None, 7, 7, 128)         0         \n",
      "_________________________________________________________________\n",
      "flatten (Flatten)            (None, 6272)              0         \n",
      "_________________________________________________________________\n",
      "dense (Dense)                (None, 1)                 6273      \n",
      "=================================================================\n",
      "Total params: 163,649\n",
      "Trainable params: 163,649\n",
      "Non-trainable params: 0\n",
      "_________________________________________________________________\n"
     ]
    }
   ],
   "source": [
    "model = keras.Model(inputs=i, outputs=o)\n",
    "model.compile(optimizer='adam', loss='binary_crossentropy', metrics=['accuracy'])\n",
    "model.summary()"
   ]
  },
  {
   "cell_type": "code",
   "execution_count": 7,
   "metadata": {
    "colab": {
     "base_uri": "https://localhost:8080/",
     "height": 374
    },
    "id": "0XIHmcaObhdo",
    "outputId": "1c224c31-d664-4e03-9176-c5e5f600bcea"
   },
   "outputs": [
    {
     "name": "stdout",
     "output_type": "stream",
     "text": [
      "Epoch 1/10\n",
      "8/8 [==============================] - 3s 320ms/step - loss: 0.7011 - accuracy: 0.4836 - val_loss: 0.6840 - val_accuracy: 0.5425\n",
      "Epoch 2/10\n",
      "8/8 [==============================] - 2s 284ms/step - loss: 0.6773 - accuracy: 0.5984 - val_loss: 0.6803 - val_accuracy: 0.5229\n",
      "Epoch 3/10\n",
      "8/8 [==============================] - 2s 303ms/step - loss: 0.6470 - accuracy: 0.6434 - val_loss: 0.7316 - val_accuracy: 0.5948\n",
      "Epoch 4/10\n",
      "8/8 [==============================] - 2s 288ms/step - loss: 0.6124 - accuracy: 0.6516 - val_loss: 0.6954 - val_accuracy: 0.5556\n",
      "Epoch 5/10\n",
      "8/8 [==============================] - 2s 294ms/step - loss: 0.5976 - accuracy: 0.6680 - val_loss: 0.6538 - val_accuracy: 0.6471\n",
      "Epoch 6/10\n",
      "8/8 [==============================] - 2s 288ms/step - loss: 0.5633 - accuracy: 0.6967 - val_loss: 0.6660 - val_accuracy: 0.5948\n",
      "Epoch 7/10\n",
      "8/8 [==============================] - 2s 297ms/step - loss: 0.5827 - accuracy: 0.6762 - val_loss: 0.6763 - val_accuracy: 0.6013\n",
      "Epoch 8/10\n",
      "8/8 [==============================] - 2s 284ms/step - loss: 0.5316 - accuracy: 0.7541 - val_loss: 0.7014 - val_accuracy: 0.6275\n",
      "Epoch 9/10\n",
      "8/8 [==============================] - 2s 285ms/step - loss: 0.4589 - accuracy: 0.8033 - val_loss: 0.9098 - val_accuracy: 0.5556\n",
      "Epoch 10/10\n",
      "8/8 [==============================] - 2s 283ms/step - loss: 0.4718 - accuracy: 0.7828 - val_loss: 0.7826 - val_accuracy: 0.6144\n"
     ]
    },
    {
     "data": {
      "text/plain": [
       "<tensorflow.python.keras.callbacks.History at 0x7f4065db20f0>"
      ]
     },
     "execution_count": 7,
     "metadata": {
      "tags": []
     },
     "output_type": "execute_result"
    }
   ],
   "source": [
    "model.fit(train, epochs=10, validation_data=test)"
   ]
  },
  {
   "cell_type": "markdown",
   "metadata": {
    "id": "mv11Ho2od9Xi"
   },
   "source": [
    "В итоге получили точность 0.6144"
   ]
  },
  {
   "cell_type": "markdown",
   "metadata": {
    "id": "E1nQT0AweErJ"
   },
   "source": [
    "Добавим слои BatchNormalization к нейросети"
   ]
  },
  {
   "cell_type": "code",
   "execution_count": 8,
   "metadata": {
    "id": "WI7SNkLobpWB"
   },
   "outputs": [],
   "source": [
    "i = keras.layers.Input(shape=(224,224,3))\n",
    "o = keras.layers.BatchNormalization()(i)\n",
    "o = keras.layers.Conv2D(128, (5,5), strides=(3,3))(o)\n",
    "o = keras.layers.MaxPool2D((2,2))(o)\n",
    "o = keras.layers.ReLU()(o)\n",
    "o = keras.layers.BatchNormalization()(o)\n",
    "o = keras.layers.Conv2D(64, (3,3))(o)\n",
    "o = keras.layers.MaxPool2D((2,2))(o)\n",
    "o = keras.layers.ReLU()(o)\n",
    "o = keras.layers.BatchNormalization()(o)\n",
    "o = keras.layers.Conv2D(128, (3,3), strides=(1,1))(o)\n",
    "o = keras.layers.MaxPool2D((2,2))(o)\n",
    "o = keras.layers.ReLU()(o)\n",
    "o = keras.layers.BatchNormalization()(o)\n",
    "o = keras.layers.Flatten()(o)\n",
    "o = keras.layers.Dense(1, activation='sigmoid')(o)"
   ]
  },
  {
   "cell_type": "code",
   "execution_count": 9,
   "metadata": {
    "colab": {
     "base_uri": "https://localhost:8080/",
     "height": 697
    },
    "id": "ujVKhWLZxdbt",
    "outputId": "f2ef7ae5-511d-468a-dd84-3834df7015ec"
   },
   "outputs": [
    {
     "name": "stdout",
     "output_type": "stream",
     "text": [
      "Model: \"functional_3\"\n",
      "_________________________________________________________________\n",
      "Layer (type)                 Output Shape              Param #   \n",
      "=================================================================\n",
      "input_2 (InputLayer)         [(None, 224, 224, 3)]     0         \n",
      "_________________________________________________________________\n",
      "batch_normalization (BatchNo (None, 224, 224, 3)       12        \n",
      "_________________________________________________________________\n",
      "conv2d_3 (Conv2D)            (None, 74, 74, 128)       9728      \n",
      "_________________________________________________________________\n",
      "max_pooling2d_3 (MaxPooling2 (None, 37, 37, 128)       0         \n",
      "_________________________________________________________________\n",
      "re_lu_3 (ReLU)               (None, 37, 37, 128)       0         \n",
      "_________________________________________________________________\n",
      "batch_normalization_1 (Batch (None, 37, 37, 128)       512       \n",
      "_________________________________________________________________\n",
      "conv2d_4 (Conv2D)            (None, 35, 35, 64)        73792     \n",
      "_________________________________________________________________\n",
      "max_pooling2d_4 (MaxPooling2 (None, 17, 17, 64)        0         \n",
      "_________________________________________________________________\n",
      "re_lu_4 (ReLU)               (None, 17, 17, 64)        0         \n",
      "_________________________________________________________________\n",
      "batch_normalization_2 (Batch (None, 17, 17, 64)        256       \n",
      "_________________________________________________________________\n",
      "conv2d_5 (Conv2D)            (None, 15, 15, 128)       73856     \n",
      "_________________________________________________________________\n",
      "max_pooling2d_5 (MaxPooling2 (None, 7, 7, 128)         0         \n",
      "_________________________________________________________________\n",
      "re_lu_5 (ReLU)               (None, 7, 7, 128)         0         \n",
      "_________________________________________________________________\n",
      "batch_normalization_3 (Batch (None, 7, 7, 128)         512       \n",
      "_________________________________________________________________\n",
      "flatten_1 (Flatten)          (None, 6272)              0         \n",
      "_________________________________________________________________\n",
      "dense_1 (Dense)              (None, 1)                 6273      \n",
      "=================================================================\n",
      "Total params: 164,941\n",
      "Trainable params: 164,295\n",
      "Non-trainable params: 646\n",
      "_________________________________________________________________\n"
     ]
    }
   ],
   "source": [
    "model = keras.Model(inputs=i, outputs=o)\n",
    "model.compile(optimizer='adam', loss='binary_crossentropy', metrics=['accuracy'])\n",
    "model.summary()"
   ]
  },
  {
   "cell_type": "code",
   "execution_count": 10,
   "metadata": {
    "colab": {
     "base_uri": "https://localhost:8080/",
     "height": 374
    },
    "id": "3CLNWgA3xhkW",
    "outputId": "5caae4c3-e561-4010-de60-efabb0e19f02"
   },
   "outputs": [
    {
     "name": "stdout",
     "output_type": "stream",
     "text": [
      "Epoch 1/10\n",
      "8/8 [==============================] - 3s 322ms/step - loss: 0.8781 - accuracy: 0.5492 - val_loss: 0.6857 - val_accuracy: 0.5948\n",
      "Epoch 2/10\n",
      "8/8 [==============================] - 2s 290ms/step - loss: 0.3318 - accuracy: 0.8607 - val_loss: 0.6907 - val_accuracy: 0.5229\n",
      "Epoch 3/10\n",
      "8/8 [==============================] - 2s 285ms/step - loss: 0.2224 - accuracy: 0.9180 - val_loss: 0.7139 - val_accuracy: 0.4510\n",
      "Epoch 4/10\n",
      "8/8 [==============================] - 2s 295ms/step - loss: 0.1239 - accuracy: 0.9672 - val_loss: 0.7348 - val_accuracy: 0.4641\n",
      "Epoch 5/10\n",
      "8/8 [==============================] - 2s 301ms/step - loss: 0.0925 - accuracy: 0.9713 - val_loss: 0.9401 - val_accuracy: 0.4575\n",
      "Epoch 6/10\n",
      "8/8 [==============================] - 2s 291ms/step - loss: 0.0440 - accuracy: 1.0000 - val_loss: 0.9042 - val_accuracy: 0.4575\n",
      "Epoch 7/10\n",
      "8/8 [==============================] - 2s 290ms/step - loss: 0.0254 - accuracy: 1.0000 - val_loss: 1.0052 - val_accuracy: 0.4575\n",
      "Epoch 8/10\n",
      "8/8 [==============================] - 2s 297ms/step - loss: 0.0163 - accuracy: 1.0000 - val_loss: 1.2217 - val_accuracy: 0.4575\n",
      "Epoch 9/10\n",
      "8/8 [==============================] - 2s 301ms/step - loss: 0.0109 - accuracy: 1.0000 - val_loss: 1.3458 - val_accuracy: 0.4575\n",
      "Epoch 10/10\n",
      "8/8 [==============================] - 2s 297ms/step - loss: 0.0081 - accuracy: 1.0000 - val_loss: 1.4886 - val_accuracy: 0.4575\n"
     ]
    },
    {
     "data": {
      "text/plain": [
       "<tensorflow.python.keras.callbacks.History at 0x7f4050457ac8>"
      ]
     },
     "execution_count": 10,
     "metadata": {
      "tags": []
     },
     "output_type": "execute_result"
    }
   ],
   "source": [
    "model.fit(train, epochs=10, validation_data=test)"
   ]
  },
  {
   "cell_type": "markdown",
   "metadata": {
    "id": "9mPc9qupA1Ed"
   },
   "source": [
    "Получили точность 0.4575, что ниже, чем в случае без слоев BatchNormalization"
   ]
  },
  {
   "cell_type": "markdown",
   "metadata": {
    "id": "6ZmXMdHoBLjQ"
   },
   "source": [
    "Создадим модель ResNet50 и инициализируем ее случайными весами"
   ]
  },
  {
   "cell_type": "code",
   "execution_count": 11,
   "metadata": {
    "id": "n4YAnkpIxqFt"
   },
   "outputs": [],
   "source": [
    "ResNet50 = keras.applications.ResNet50(include_top=False, weights=None)"
   ]
  },
  {
   "cell_type": "code",
   "execution_count": 12,
   "metadata": {
    "id": "4-vknR85ye-c"
   },
   "outputs": [],
   "source": [
    "i = keras.layers.Input((224, 224, 3), dtype = tf.uint8)\n",
    "o = tf.cast(i, tf.float32)\n",
    "o = keras.applications.resnet50.preprocess_input(o)\n",
    "o = ResNet50(o)\n",
    "o = keras.layers.Flatten()(o)\n",
    "o = keras.layers.Dense(1, activation='sigmoid')(o)"
   ]
  },
  {
   "cell_type": "code",
   "execution_count": 13,
   "metadata": {
    "colab": {
     "base_uri": "https://localhost:8080/",
     "height": 391
    },
    "id": "WO272AYzytp9",
    "outputId": "6b6dc40d-00b7-4a7a-da07-aa3e5f575e33"
   },
   "outputs": [
    {
     "name": "stdout",
     "output_type": "stream",
     "text": [
      "Model: \"functional_5\"\n",
      "_________________________________________________________________\n",
      "Layer (type)                 Output Shape              Param #   \n",
      "=================================================================\n",
      "input_4 (InputLayer)         [(None, 224, 224, 3)]     0         \n",
      "_________________________________________________________________\n",
      "tf_op_layer_Cast (TensorFlow [(None, 224, 224, 3)]     0         \n",
      "_________________________________________________________________\n",
      "tf_op_layer_strided_slice (T [(None, 224, 224, 3)]     0         \n",
      "_________________________________________________________________\n",
      "tf_op_layer_BiasAdd (TensorF [(None, 224, 224, 3)]     0         \n",
      "_________________________________________________________________\n",
      "resnet50 (Functional)        (None, None, None, 2048)  23587712  \n",
      "_________________________________________________________________\n",
      "flatten_2 (Flatten)          (None, 100352)            0         \n",
      "_________________________________________________________________\n",
      "dense_2 (Dense)              (None, 1)                 100353    \n",
      "=================================================================\n",
      "Total params: 23,688,065\n",
      "Trainable params: 23,634,945\n",
      "Non-trainable params: 53,120\n",
      "_________________________________________________________________\n"
     ]
    }
   ],
   "source": [
    "model = keras.Model(inputs=i, outputs=o)\n",
    "model.compile(optimizer='adam', loss='binary_crossentropy', metrics=['accuracy'])\n",
    "model.summary()"
   ]
  },
  {
   "cell_type": "code",
   "execution_count": 14,
   "metadata": {
    "colab": {
     "base_uri": "https://localhost:8080/",
     "height": 411
    },
    "id": "GPIvTjwDzrHu",
    "outputId": "fd5d579b-cce2-45f8-9368-09410c046559"
   },
   "outputs": [
    {
     "name": "stdout",
     "output_type": "stream",
     "text": [
      "Epoch 1/10\n",
      "2/8 [======>.......................] - ETA: 1s - loss: 41.6487 - accuracy: 0.5312WARNING:tensorflow:Callbacks method `on_train_batch_end` is slow compared to the batch time (batch time: 0.1746s vs `on_train_batch_end` time: 0.2757s). Check your callbacks.\n",
      "8/8 [==============================] - 6s 811ms/step - loss: 24.7828 - accuracy: 0.5164 - val_loss: 30468.9941 - val_accuracy: 0.5425\n",
      "Epoch 2/10\n",
      "8/8 [==============================] - 5s 567ms/step - loss: 4.4961 - accuracy: 0.5369 - val_loss: 147582.6875 - val_accuracy: 0.5425\n",
      "Epoch 3/10\n",
      "8/8 [==============================] - 5s 564ms/step - loss: 2.7872 - accuracy: 0.4877 - val_loss: 61255.0859 - val_accuracy: 0.5425\n",
      "Epoch 4/10\n",
      "8/8 [==============================] - 5s 563ms/step - loss: 1.9862 - accuracy: 0.4877 - val_loss: 20622.4805 - val_accuracy: 0.5425\n",
      "Epoch 5/10\n",
      "8/8 [==============================] - 5s 568ms/step - loss: 1.6382 - accuracy: 0.4467 - val_loss: 3679.2246 - val_accuracy: 0.5425\n",
      "Epoch 6/10\n",
      "8/8 [==============================] - 5s 569ms/step - loss: 3.0936 - accuracy: 0.5451 - val_loss: 3105.9624 - val_accuracy: 0.5425\n",
      "Epoch 7/10\n",
      "8/8 [==============================] - 5s 571ms/step - loss: 3.2632 - accuracy: 0.5205 - val_loss: 413.2982 - val_accuracy: 0.5425\n",
      "Epoch 8/10\n",
      "8/8 [==============================] - 5s 578ms/step - loss: 2.2076 - accuracy: 0.5041 - val_loss: 474.0633 - val_accuracy: 0.5425\n",
      "Epoch 9/10\n",
      "8/8 [==============================] - 5s 580ms/step - loss: 2.1864 - accuracy: 0.4713 - val_loss: 51.5382 - val_accuracy: 0.5425\n",
      "Epoch 10/10\n",
      "8/8 [==============================] - 5s 566ms/step - loss: 2.9275 - accuracy: 0.5287 - val_loss: 48.0137 - val_accuracy: 0.5425\n"
     ]
    },
    {
     "data": {
      "text/plain": [
       "<tensorflow.python.keras.callbacks.History at 0x7f3ffe1b17b8>"
      ]
     },
     "execution_count": 14,
     "metadata": {
      "tags": []
     },
     "output_type": "execute_result"
    }
   ],
   "source": [
    "model.fit(train, epochs=10, validation_data=test)"
   ]
  },
  {
   "cell_type": "markdown",
   "metadata": {
    "id": "jVbVjgl4Bd6a"
   },
   "source": [
    "Получили точность 0.5425, что хуже, чем в случае с первой нейросетью."
   ]
  },
  {
   "cell_type": "markdown",
   "metadata": {
    "id": "8FYl323yBoK_"
   },
   "source": [
    "Реализуем предобученную сеть ResNet50 с весами ImageNet.\n",
    "\n",
    "Добавим 2 полносвязных слоя для повышения качества модели."
   ]
  },
  {
   "cell_type": "code",
   "execution_count": 23,
   "metadata": {
    "id": "6DRyrFKSzw-b"
   },
   "outputs": [],
   "source": [
    "ResNet50 = keras.applications.ResNet50(include_top=False, weights='imagenet')"
   ]
  },
  {
   "cell_type": "code",
   "execution_count": 28,
   "metadata": {
    "id": "6XcW50wz0D2C"
   },
   "outputs": [],
   "source": [
    "i = keras.layers.Input((224, 224, 3), dtype = tf.uint8)\n",
    "o = tf.cast(i, tf.float32)\n",
    "o = keras.applications.resnet50.preprocess_input(o)\n",
    "o = ResNet50(o)\n",
    "o = keras.layers.Dense(32, activation='sigmoid')(o)\n",
    "o = keras.layers.Dense(4, activation='sigmoid')(o)\n",
    "o = keras.layers.Flatten()(o)\n",
    "o = keras.layers.Dense(1, activation='sigmoid')(o)"
   ]
  },
  {
   "cell_type": "code",
   "execution_count": 29,
   "metadata": {
    "id": "BD4YXJ5T1Mvw"
   },
   "outputs": [],
   "source": [
    "ResNet50.trainable = False"
   ]
  },
  {
   "cell_type": "code",
   "execution_count": 30,
   "metadata": {
    "colab": {
     "base_uri": "https://localhost:8080/",
     "height": 459
    },
    "id": "shOmV0vp0L3Q",
    "outputId": "8198eef3-72f9-43b5-8d2b-8410a0f65480"
   },
   "outputs": [
    {
     "name": "stdout",
     "output_type": "stream",
     "text": [
      "Model: \"functional_11\"\n",
      "_________________________________________________________________\n",
      "Layer (type)                 Output Shape              Param #   \n",
      "=================================================================\n",
      "input_11 (InputLayer)        [(None, 224, 224, 3)]     0         \n",
      "_________________________________________________________________\n",
      "tf_op_layer_Cast_5 (TensorFl [(None, 224, 224, 3)]     0         \n",
      "_________________________________________________________________\n",
      "tf_op_layer_strided_slice_5  [(None, 224, 224, 3)]     0         \n",
      "_________________________________________________________________\n",
      "tf_op_layer_BiasAdd_5 (Tenso [(None, 224, 224, 3)]     0         \n",
      "_________________________________________________________________\n",
      "resnet50 (Functional)        (None, None, None, 2048)  23587712  \n",
      "_________________________________________________________________\n",
      "dense_11 (Dense)             (None, 7, 7, 32)          65568     \n",
      "_________________________________________________________________\n",
      "dense_12 (Dense)             (None, 7, 7, 4)           132       \n",
      "_________________________________________________________________\n",
      "flatten_7 (Flatten)          (None, 196)               0         \n",
      "_________________________________________________________________\n",
      "dense_13 (Dense)             (None, 1)                 197       \n",
      "=================================================================\n",
      "Total params: 23,653,609\n",
      "Trainable params: 65,897\n",
      "Non-trainable params: 23,587,712\n",
      "_________________________________________________________________\n"
     ]
    }
   ],
   "source": [
    "model = keras.Model(inputs=i, outputs=o)\n",
    "model.compile(optimizer='adam', loss='binary_crossentropy', metrics=['accuracy'])\n",
    "model.summary()"
   ]
  },
  {
   "cell_type": "code",
   "execution_count": 31,
   "metadata": {
    "colab": {
     "base_uri": "https://localhost:8080/",
     "height": 374
    },
    "id": "27edvMUc0Rnf",
    "outputId": "04df685b-5375-46ba-c08f-40cf548b3cab"
   },
   "outputs": [
    {
     "name": "stdout",
     "output_type": "stream",
     "text": [
      "Epoch 1/10\n",
      "8/8 [==============================] - 4s 471ms/step - loss: 0.6958 - accuracy: 0.4918 - val_loss: 0.7036 - val_accuracy: 0.4575\n",
      "Epoch 2/10\n",
      "8/8 [==============================] - 3s 355ms/step - loss: 0.6965 - accuracy: 0.4672 - val_loss: 0.6879 - val_accuracy: 0.6405\n",
      "Epoch 3/10\n",
      "8/8 [==============================] - 3s 347ms/step - loss: 0.6921 - accuracy: 0.5082 - val_loss: 0.6919 - val_accuracy: 0.4771\n",
      "Epoch 4/10\n",
      "8/8 [==============================] - 3s 352ms/step - loss: 0.6824 - accuracy: 0.6148 - val_loss: 0.6823 - val_accuracy: 0.6209\n",
      "Epoch 5/10\n",
      "8/8 [==============================] - 3s 351ms/step - loss: 0.6838 - accuracy: 0.5451 - val_loss: 0.6839 - val_accuracy: 0.5686\n",
      "Epoch 6/10\n",
      "8/8 [==============================] - 3s 361ms/step - loss: 0.6786 - accuracy: 0.6148 - val_loss: 0.6844 - val_accuracy: 0.5425\n",
      "Epoch 7/10\n",
      "8/8 [==============================] - 3s 348ms/step - loss: 0.6750 - accuracy: 0.6311 - val_loss: 0.6799 - val_accuracy: 0.6405\n",
      "Epoch 8/10\n",
      "8/8 [==============================] - 3s 354ms/step - loss: 0.6749 - accuracy: 0.5943 - val_loss: 0.6763 - val_accuracy: 0.6340\n",
      "Epoch 9/10\n",
      "8/8 [==============================] - 3s 347ms/step - loss: 0.6710 - accuracy: 0.5779 - val_loss: 0.6792 - val_accuracy: 0.5621\n",
      "Epoch 10/10\n",
      "8/8 [==============================] - 3s 355ms/step - loss: 0.6728 - accuracy: 0.5656 - val_loss: 0.6752 - val_accuracy: 0.6536\n"
     ]
    },
    {
     "data": {
      "text/plain": [
       "<tensorflow.python.keras.callbacks.History at 0x7f3e3a5695c0>"
      ]
     },
     "execution_count": 31,
     "metadata": {
      "tags": []
     },
     "output_type": "execute_result"
    }
   ],
   "source": [
    "model.fit(train, epochs=10, validation_data=test)"
   ]
  },
  {
   "cell_type": "markdown",
   "metadata": {
    "id": "W1-Vi1wvB6Nw"
   },
   "source": [
    "Получили точность 0.6536"
   ]
  },
  {
   "cell_type": "markdown",
   "metadata": {
    "id": "DCOM9IcOGM6E"
   },
   "source": [
    "**Выводы:**\n",
    "\n",
    "1. Максимальная точность модели достигается при использовании предобученной нейросети ResNet50 с добавлением двух полносвязных слоев. Параметры слоев подбирались экспериментально.\n",
    "2. Добавление слоев с нормализацией (BatchNormalization) ведет к ухудшению качества модели из-за того, что модель переобучается.\n",
    "\n"
   ]
  }
 ],
 "metadata": {
  "accelerator": "GPU",
  "colab": {
   "collapsed_sections": [],
   "name": "Homework1.ipynb",
   "provenance": []
  },
  "kernelspec": {
   "display_name": "Python 3",
   "language": "python",
   "name": "python3"
  },
  "language_info": {
   "codemirror_mode": {
    "name": "ipython",
    "version": 3
   },
   "file_extension": ".py",
   "mimetype": "text/x-python",
   "name": "python",
   "nbconvert_exporter": "python",
   "pygments_lexer": "ipython3",
   "version": "3.7.3"
  }
 },
 "nbformat": 4,
 "nbformat_minor": 1
}
